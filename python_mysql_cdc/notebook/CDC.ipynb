{
 "cells": [
  {
   "cell_type": "code",
   "execution_count": 1,
   "id": "99bf3870-a9d0-4a02-b72a-c8973a1a52e6",
   "metadata": {},
   "outputs": [],
   "source": [
    "import json\n",
    "\n",
    "from pymysqlreplication import BinLogStreamReader\n",
    "from pymysqlreplication.row_event import (\n",
    "  DeleteRowsEvent,\n",
    "  UpdateRowsEvent,\n",
    "  WriteRowsEvent,\n",
    ")\n",
    "\n",
    "from utils import concat_sql_from_binlog_event\n",
    "import pymysql\n",
    "import os\n",
    "import sys\n",
    "import logging"
   ]
  },
  {
   "cell_type": "code",
   "execution_count": null,
   "id": "ea1ffd1a-8a80-49fb-af67-286882f3dd4b",
   "metadata": {},
   "outputs": [
    {
     "name": "stdout",
     "output_type": "stream",
     "text": [
      "/* {\"schema\": \"my_database\", \"table\": \"test\", \"type\": \"WriteRowsEvent\", \"row\": {\"values\": {\"id\": 1}}} */\n",
      "INSERT INTO `my_database`.`test`(`id`) VALUES (1);\n",
      "\n",
      "/* {\"schema\": \"my_database\", \"table\": \"test\", \"type\": \"WriteRowsEvent\", \"row\": {\"values\": {\"id\": 2}}} */\n",
      "INSERT INTO `my_database`.`test`(`id`) VALUES (2);\n",
      "\n",
      "/* {\"schema\": \"my_database\", \"table\": \"test\", \"type\": \"WriteRowsEvent\", \"row\": {\"values\": {\"id\": 3}}} */\n",
      "INSERT INTO `my_database`.`test`(`id`) VALUES (3);\n",
      "\n",
      "/* {\"schema\": \"my_database\", \"table\": \"test\", \"type\": \"UpdateRowsEvent\", \"row\": {\"before_values\": {\"id\": 3}, \"after_values\": {\"id\": 4}}} */\n",
      "UPDATE `my_database`.`test` SET `id`=4 WHERE `id`=3 LIMIT 1;\n",
      "\n",
      "/* {\"schema\": \"my_database\", \"table\": \"test\", \"type\": \"DeleteRowsEvent\", \"row\": {\"values\": {\"id\": 1}}} */\n",
      "DELETE FROM `my_database`.`test` WHERE `id`=1 LIMIT 1;\n",
      "\n"
     ]
    }
   ],
   "source": [
    "# Logging\n",
    "logging.basicConfig(\n",
    "    stream=sys.stdout,\n",
    "    level=logging.INFO,\n",
    "    format=\"%(levelname)s %(message)s\")\n",
    "\n",
    "def main(mysqlConfigs):\n",
    "  conn = pymysql.connect(**mysqlConfigs)  \n",
    "  cursor = conn.cursor()\n",
    "  stream = BinLogStreamReader(\n",
    "    connection_settings = mysqlConfigs,\n",
    "    server_id=100,\n",
    "    blocking=True,\n",
    "    resume_stream=True,\n",
    "    only_events=[DeleteRowsEvent, WriteRowsEvent, UpdateRowsEvent])\n",
    "\n",
    "  for binlogevent in stream:\n",
    "    e_start_pos, last_pos = stream.log_pos, stream.log_pos\n",
    "    for row in binlogevent.rows:\n",
    "      event = {\"schema\": binlogevent.schema,\n",
    "      \"table\": binlogevent.table,\n",
    "      \"type\": type(binlogevent).__name__,\n",
    "      \"row\": row\n",
    "      }\n",
    "      #if isinstance(binlog_event, QueryEvent) and binlog_event.query == 'BEGIN':\n",
    "      #  e_start_pos = last_pos\n",
    "      print(\"/*\", json.dumps(event), \"*/\")\n",
    "      print(concat_sql_from_binlog_event(cursor=cursor, binlog_event=binlogevent, row=row, e_start_pos=e_start_pos))\n",
    "      print()\n",
    "\n",
    "\n",
    "if __name__ == \"__main__\":\n",
    "  mysqlConfigs = {\n",
    "      \"host\": \"mysql\",\n",
    "      \"port\": 3306,\n",
    "      \"user\": \"root\",\n",
    "      \"passwd\": \"Password0987\",\n",
    "      'db': \"my_database\",\n",
    "  }\n",
    "  main(mysqlConfigs)"
   ]
  }
 ],
 "metadata": {
  "kernelspec": {
   "display_name": "Python 3 (ipykernel)",
   "language": "python",
   "name": "python3"
  },
  "language_info": {
   "codemirror_mode": {
    "name": "ipython",
    "version": 3
   },
   "file_extension": ".py",
   "mimetype": "text/x-python",
   "name": "python",
   "nbconvert_exporter": "python",
   "pygments_lexer": "ipython3",
   "version": "3.10.5"
  }
 },
 "nbformat": 4,
 "nbformat_minor": 5
}
